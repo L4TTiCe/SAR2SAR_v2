{
 "cells": [
  {
   "cell_type": "markdown",
   "metadata": {},
   "source": [
    "# Misc. Snippets"
   ]
  },
  {
   "cell_type": "markdown",
   "metadata": {},
   "source": [
    "## Inspecting Images"
   ]
  },
  {
   "cell_type": "code",
   "execution_count": 1,
   "metadata": {},
   "outputs": [],
   "source": [
    "import numpy as np\n",
    "# import cv2 as cv\n",
    "from PIL import Image, UnidentifiedImageError\n",
    "import os"
   ]
  },
  {
   "cell_type": "code",
   "execution_count": 2,
   "metadata": {},
   "outputs": [],
   "source": [
    "Image.MAX_IMAGE_PIXELS = None  # Override PIL's DecompressionBombError"
   ]
  },
  {
   "cell_type": "code",
   "execution_count": 3,
   "metadata": {},
   "outputs": [],
   "source": [
    "BASE_DIR = os.path.join(os.getcwd(), 'output')\n",
    "\n",
    "noisy = os.path.join(BASE_DIR, 'noisy')\n",
    "# final = os.path.join(BASE_DIR, 'final')\n",
    "denoi = os.path.join(BASE_DIR, 'denoised')"
   ]
  },
  {
   "cell_type": "code",
   "execution_count": 4,
   "metadata": {},
   "outputs": [
    {
     "data": {
      "text/plain": [
       "['19648321_RH.npy',\n",
       " '19648321_RH.tif',\n",
       " '196488211.npy',\n",
       " '196488211.tif',\n",
       " '196488211_M10.tif',\n",
       " '196488211_M12.tif',\n",
       " '196488311_RH.npy',\n",
       " '196488311_RH.tif',\n",
       " 'README.md']"
      ]
     },
     "execution_count": 4,
     "metadata": {},
     "output_type": "execute_result"
    }
   ],
   "source": [
    "os.listdir(denoi)"
   ]
  },
  {
   "cell_type": "code",
   "execution_count": 5,
   "metadata": {},
   "outputs": [
    {
     "data": {
      "text/plain": [
       "['19648321_RH.npy',\n",
       " '19648321_RH.tif',\n",
       " '196488211.npy',\n",
       " '196488211.tif',\n",
       " '196488311_RH.npy',\n",
       " '196488311_RH.tif',\n",
       " 'README.md']"
      ]
     },
     "execution_count": 5,
     "metadata": {},
     "output_type": "execute_result"
    }
   ],
   "source": [
    "os.listdir(noisy)"
   ]
  },
  {
   "cell_type": "code",
   "execution_count": 19,
   "metadata": {},
   "outputs": [
    {
     "data": {
      "text/plain": [
       "'/mnt/d/dev/SAR/repos/SAR2SAR_v2/output/denoised/196488211.npy'"
      ]
     },
     "execution_count": 19,
     "metadata": {},
     "output_type": "execute_result"
    }
   ],
   "source": [
    "noisy = os.path.join(noisy, os.listdir(noisy)[0])\n",
    "denoi = os.path.join(denoi, os.listdir(denoi)[0])\n",
    "denoi"
   ]
  },
  {
   "cell_type": "code",
   "execution_count": 22,
   "metadata": {},
   "outputs": [],
   "source": [
    "img_d = np.asarray(Image.open(denoi))  # Denoised"
   ]
  },
  {
   "cell_type": "code",
   "execution_count": 23,
   "metadata": {},
   "outputs": [
    {
     "data": {
      "text/plain": [
       "array([[171,  93, 112, ..., 121,  95,  74],\n",
       "       [121,  94, 106, ..., 100,  82,  87],\n",
       "       [108, 112, 145, ..., 100,  90,  94],\n",
       "       ...,\n",
       "       [ 90, 111, 117, ..., 102,  78,  50],\n",
       "       [110, 101, 105, ...,  99,  95,  67],\n",
       "       [ 91,  94, 100, ..., 103, 108,  90]], dtype=uint8)"
      ]
     },
     "execution_count": 23,
     "metadata": {},
     "output_type": "execute_result"
    }
   ],
   "source": [
    "img_d"
   ]
  },
  {
   "cell_type": "code",
   "execution_count": 20,
   "metadata": {},
   "outputs": [
    {
     "data": {
      "text/plain": [
       "array([[2178.577  ,  868.4121 , 1018.91986, ..., 1085.0505 ,  807.5947 ,\n",
       "         638.9435 ],\n",
       "       [1203.3401 ,  838.34686,  967.15906, ...,  841.7806 ,  656.9413 ,\n",
       "         797.31104],\n",
       "       [1025.4806 , 1155.9614 , 1372.1504 , ...,  879.6489 ,  775.143  ,\n",
       "         867.1112 ],\n",
       "       ...,\n",
       "       [ 760.7676 , 1096.9271 , 1095.1951 , ...,  993.7242 ,  824.4236 ,\n",
       "         407.46515],\n",
       "       [ 910.2322 ,  824.22943,  904.3717 , ...,  769.02576,  901.0487 ,\n",
       "         590.22546],\n",
       "       [ 780.8077 ,  817.6858 ,  935.9957 , ...,  918.71075, 1097.578  ,\n",
       "         873.10065]], dtype=float32)"
      ]
     },
     "execution_count": 20,
     "metadata": {},
     "output_type": "execute_result"
    }
   ],
   "source": [
    "npy_arr = np.load(denoi)\n",
    "npy_arr"
   ]
  },
  {
   "cell_type": "markdown",
   "metadata": {},
   "source": [
    "## Save as ENVI binary file"
   ]
  },
  {
   "cell_type": "code",
   "execution_count": 6,
   "metadata": {},
   "outputs": [],
   "source": [
    "import os, osr\n",
    "import numpy as np\n",
    "from osgeo import gdal, ogr\n",
    "\n",
    "def array2raster(newRasterfn,rasterOrigin,pixelWidth,pixelHeight,array):\n",
    "    cols = array.shape[1]\n",
    "    rows = array.shape[0]\n",
    "    originX = rasterOrigin[0]\n",
    "    originY = rasterOrigin[1]\n",
    "\n",
    "    driver = gdal.GetDriverByName('ENVI')\n",
    "    outRaster = driver.Create(newRasterfn, cols, rows, 1, gdal.GDT_Float32)\n",
    "    outRaster.SetGeoTransform((originX, pixelWidth, 0, originY, 0, pixelHeight))\n",
    "    outband = outRaster.GetRasterBand(1)\n",
    "    outband.WriteArray(array)\n",
    "    outRasterSRS = osr.SpatialReference()\n",
    "    outRasterSRS.ImportFromEPSG(4326)\n",
    "    outRaster.SetProjection(outRasterSRS.ExportToWkt())\n",
    "    outband.FlushCache()"
   ]
  },
  {
   "cell_type": "code",
   "execution_count": 7,
   "metadata": {},
   "outputs": [],
   "source": [
    "def main(newRasterfn,rasterOrigin,pixelWidth,pixelHeight,array):\n",
    "#     reversed_arr = array[::-1] # reverse array so the tif looks like the array\n",
    "#     array2raster(newRasterfn,rasterOrigin,pixelWidth,pixelHeight,reversed_arr) # convert array to raster\n",
    "\n",
    "    array2raster(newRasterfn,rasterOrigin,pixelWidth,pixelHeight,array) # convert array to raster"
   ]
  },
  {
   "cell_type": "code",
   "execution_count": 11,
   "metadata": {},
   "outputs": [],
   "source": [
    "arr_loc = 'output/denoised/196488311_RH.npy'\n",
    "\n",
    "rasterOrigin = (0, 0)\n",
    "pixelWidth = 10\n",
    "pixelHeight = 10\n",
    "newRasterfn = '196488311_RH.img'\n",
    "array = np.load(arr_loc)"
   ]
  },
  {
   "cell_type": "code",
   "execution_count": 12,
   "metadata": {},
   "outputs": [],
   "source": [
    "main(newRasterfn,rasterOrigin,pixelWidth,pixelHeight,array)"
   ]
  },
  {
   "cell_type": "code",
   "execution_count": null,
   "metadata": {},
   "outputs": [],
   "source": []
  }
 ],
 "metadata": {
  "kernelspec": {
   "display_name": "Python 3",
   "language": "python",
   "name": "python3"
  },
  "language_info": {
   "codemirror_mode": {
    "name": "ipython",
    "version": 3
   },
   "file_extension": ".py",
   "mimetype": "text/x-python",
   "name": "python",
   "nbconvert_exporter": "python",
   "pygments_lexer": "ipython3",
   "version": "3.8.2"
  }
 },
 "nbformat": 4,
 "nbformat_minor": 4
}
