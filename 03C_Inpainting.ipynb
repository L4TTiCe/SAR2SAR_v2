{
 "cells": [
  {
   "cell_type": "markdown",
   "metadata": {
    "colab_type": "text",
    "id": "YFaNMPk2CdVW"
   },
   "source": [
    "## Inpainting using Tensorflow"
   ]
  },
  {
   "cell_type": "markdown",
   "metadata": {
    "colab_type": "text",
    "id": "lgkezB-ZCiSw"
   },
   "source": [
    "### Runtime Setup\n",
    "\n",
    "Mounting GDrive"
   ]
  },
  {
   "cell_type": "code",
   "execution_count": 8,
   "metadata": {
    "colab": {
     "base_uri": "https://localhost:8080/",
     "height": 34
    },
    "colab_type": "code",
    "executionInfo": {
     "elapsed": 1394,
     "status": "ok",
     "timestamp": 1601020372400,
     "user": {
      "displayName": "M DHESHAN 17BCE0217",
      "photoUrl": "",
      "userId": "01468681514118113587"
     },
     "user_tz": -330
    },
    "id": "D9wpIW3YCK4N",
    "outputId": "626e3207-dccc-4757-d69b-91aa91939fb8"
   },
   "outputs": [
    {
     "name": "stdout",
     "output_type": "stream",
     "text": [
      "Drive already mounted at /gdrive; to attempt to forcibly remount, call drive.mount(\"/gdrive\", force_remount=True).\n"
     ]
    }
   ],
   "source": [
    "from google.colab import drive\n",
    "drive.mount('/gdrive')"
   ]
  },
  {
   "cell_type": "code",
   "execution_count": 2,
   "metadata": {
    "colab": {
     "base_uri": "https://localhost:8080/",
     "height": 34
    },
    "colab_type": "code",
    "executionInfo": {
     "elapsed": 1181,
     "status": "ok",
     "timestamp": 1601019751026,
     "user": {
      "displayName": "M DHESHAN 17BCE0217",
      "photoUrl": "",
      "userId": "01468681514118113587"
     },
     "user_tz": -330
    },
    "id": "LQGBWMa3C49h",
    "outputId": "c7307fc3-7a0a-4e20-9ee6-18118cfe0329"
   },
   "outputs": [
    {
     "name": "stdout",
     "output_type": "stream",
     "text": [
      "denoised  inpainted  mask\n"
     ]
    }
   ],
   "source": [
    "!ls '/gdrive/My Drive/SAR'"
   ]
  },
  {
   "cell_type": "code",
   "execution_count": 3,
   "metadata": {
    "colab": {
     "base_uri": "https://localhost:8080/",
     "height": 51
    },
    "colab_type": "code",
    "executionInfo": {
     "elapsed": 1631,
     "status": "ok",
     "timestamp": 1601019753788,
     "user": {
      "displayName": "M DHESHAN 17BCE0217",
      "photoUrl": "",
      "userId": "01468681514118113587"
     },
     "user_tz": -330
    },
    "id": "6w2hfVeTKgJm",
    "outputId": "d97ddca8-7924-4120-9c87-efa6ba03e333"
   },
   "outputs": [
    {
     "name": "stdout",
     "output_type": "stream",
     "text": [
      "19648311_RH.png   196488331_RV.png  196488341_RH.png\n",
      "196488331_HH.png  196488341_HH.png\n"
     ]
    }
   ],
   "source": [
    "!ls '/gdrive/My Drive/SAR/denoised'"
   ]
  },
  {
   "cell_type": "code",
   "execution_count": 4,
   "metadata": {
    "colab": {
     "base_uri": "https://localhost:8080/",
     "height": 34
    },
    "colab_type": "code",
    "executionInfo": {
     "elapsed": 1083,
     "status": "ok",
     "timestamp": 1601019756658,
     "user": {
      "displayName": "M DHESHAN 17BCE0217",
      "photoUrl": "",
      "userId": "01468681514118113587"
     },
     "user_tz": -330
    },
    "id": "tZ4c7kDRKmGm",
    "outputId": "5f11806d-10b3-4d3d-8734-513d01b0c21c"
   },
   "outputs": [
    {
     "name": "stdout",
     "output_type": "stream",
     "text": [
      "19648311_RH_inpainted.png\n"
     ]
    }
   ],
   "source": [
    "!ls '/gdrive/My Drive/SAR/inpainted'"
   ]
  },
  {
   "cell_type": "code",
   "execution_count": 3,
   "metadata": {
    "colab": {},
    "colab_type": "code",
    "executionInfo": {
     "elapsed": 1168,
     "status": "ok",
     "timestamp": 1601018881323,
     "user": {
      "displayName": "M DHESHAN 17BCE0217",
      "photoUrl": "",
      "userId": "01468681514118113587"
     },
     "user_tz": -330
    },
    "id": "joja4b_kFe1c"
   },
   "outputs": [],
   "source": [
    "import os\n",
    "os.environ[\"TF_CPP_MIN_LOG_LEVEL\"] = \"2\""
   ]
  },
  {
   "cell_type": "markdown",
   "metadata": {
    "colab_type": "text",
    "id": "cl4fI8FvFeNB"
   },
   "source": [
    "### Get higher memory"
   ]
  },
  {
   "cell_type": "code",
   "execution_count": null,
   "metadata": {
    "colab": {},
    "colab_type": "code",
    "id": "WLgQZqtxHLBj"
   },
   "outputs": [],
   "source": [
    "a = []\n",
    "while(1):\n",
    "    a.append('1')"
   ]
  },
  {
   "cell_type": "markdown",
   "metadata": {
    "colab_type": "text",
    "id": "JtxaL2MgDG_J"
   },
   "source": [
    "## Run Task"
   ]
  },
  {
   "cell_type": "code",
   "execution_count": 11,
   "metadata": {
    "colab": {
     "base_uri": "https://localhost:8080/",
     "height": 1000
    },
    "colab_type": "code",
    "executionInfo": {
     "elapsed": 52881,
     "status": "ok",
     "timestamp": 1601020620656,
     "user": {
      "displayName": "M DHESHAN 17BCE0217",
      "photoUrl": "",
      "userId": "01468681514118113587"
     },
     "user_tz": -330
    },
    "id": "l86dMQQrDCi_",
    "outputId": "39ea73b9-7c64-4c9b-b302-e39be01d2953"
   },
   "outputs": [
    {
     "name": "stdout",
     "output_type": "stream",
     "text": [
      "2020-09-25 07:56:08.976608: I tensorflow/stream_executor/platform/default/dso_loader.cc:48] Successfully opened dynamic library libcudart.so.10.1\n",
      "[*] Starting Inpainting process\n",
      "2020-09-25 07:56:11.040590: I tensorflow/stream_executor/platform/default/dso_loader.cc:48] Successfully opened dynamic library libcuda.so.1\n",
      "2020-09-25 07:56:11.068514: I tensorflow/stream_executor/cuda/cuda_gpu_executor.cc:982] successful NUMA node read from SysFS had negative value (-1), but there must be at least one NUMA node, so returning NUMA node zero\n",
      "2020-09-25 07:56:11.069512: I tensorflow/core/common_runtime/gpu/gpu_device.cc:1716] Found device 0 with properties: \n",
      "pciBusID: 0000:00:04.0 name: Tesla K80 computeCapability: 3.7\n",
      "coreClock: 0.8235GHz coreCount: 13 deviceMemorySize: 11.17GiB deviceMemoryBandwidth: 223.96GiB/s\n",
      "2020-09-25 07:56:11.069577: I tensorflow/stream_executor/platform/default/dso_loader.cc:48] Successfully opened dynamic library libcudart.so.10.1\n",
      "2020-09-25 07:56:11.072097: I tensorflow/stream_executor/platform/default/dso_loader.cc:48] Successfully opened dynamic library libcublas.so.10\n",
      "2020-09-25 07:56:11.074563: I tensorflow/stream_executor/platform/default/dso_loader.cc:48] Successfully opened dynamic library libcufft.so.10\n",
      "2020-09-25 07:56:11.075056: I tensorflow/stream_executor/platform/default/dso_loader.cc:48] Successfully opened dynamic library libcurand.so.10\n",
      "2020-09-25 07:56:11.077412: I tensorflow/stream_executor/platform/default/dso_loader.cc:48] Successfully opened dynamic library libcusolver.so.10\n",
      "2020-09-25 07:56:11.079043: I tensorflow/stream_executor/platform/default/dso_loader.cc:48] Successfully opened dynamic library libcusparse.so.10\n",
      "2020-09-25 07:56:11.083831: I tensorflow/stream_executor/platform/default/dso_loader.cc:48] Successfully opened dynamic library libcudnn.so.7\n",
      "2020-09-25 07:56:11.084072: I tensorflow/stream_executor/cuda/cuda_gpu_executor.cc:982] successful NUMA node read from SysFS had negative value (-1), but there must be at least one NUMA node, so returning NUMA node zero\n",
      "2020-09-25 07:56:11.084975: I tensorflow/stream_executor/cuda/cuda_gpu_executor.cc:982] successful NUMA node read from SysFS had negative value (-1), but there must be at least one NUMA node, so returning NUMA node zero\n",
      "2020-09-25 07:56:11.085804: I tensorflow/core/common_runtime/gpu/gpu_device.cc:1858] Adding visible gpu devices: 0\n",
      "2020-09-25 07:56:11.092436: I tensorflow/core/platform/profile_utils/cpu_utils.cc:104] CPU Frequency: 2300000000 Hz\n",
      "2020-09-25 07:56:11.092709: I tensorflow/compiler/xla/service/service.cc:168] XLA service 0x283c840 initialized for platform Host (this does not guarantee that XLA will be used). Devices:\n",
      "2020-09-25 07:56:11.092752: I tensorflow/compiler/xla/service/service.cc:176]   StreamExecutor device (0): Host, Default Version\n",
      "2020-09-25 07:56:11.152155: I tensorflow/stream_executor/cuda/cuda_gpu_executor.cc:982] successful NUMA node read from SysFS had negative value (-1), but there must be at least one NUMA node, so returning NUMA node zero\n",
      "2020-09-25 07:56:11.153041: I tensorflow/compiler/xla/service/service.cc:168] XLA service 0x283cbc0 initialized for platform CUDA (this does not guarantee that XLA will be used). Devices:\n",
      "2020-09-25 07:56:11.153077: I tensorflow/compiler/xla/service/service.cc:176]   StreamExecutor device (0): Tesla K80, Compute Capability 3.7\n",
      "2020-09-25 07:56:11.153329: I tensorflow/stream_executor/cuda/cuda_gpu_executor.cc:982] successful NUMA node read from SysFS had negative value (-1), but there must be at least one NUMA node, so returning NUMA node zero\n",
      "2020-09-25 07:56:11.154032: I tensorflow/core/common_runtime/gpu/gpu_device.cc:1716] Found device 0 with properties: \n",
      "pciBusID: 0000:00:04.0 name: Tesla K80 computeCapability: 3.7\n",
      "coreClock: 0.8235GHz coreCount: 13 deviceMemorySize: 11.17GiB deviceMemoryBandwidth: 223.96GiB/s\n",
      "2020-09-25 07:56:11.154100: I tensorflow/stream_executor/platform/default/dso_loader.cc:48] Successfully opened dynamic library libcudart.so.10.1\n",
      "2020-09-25 07:56:11.154160: I tensorflow/stream_executor/platform/default/dso_loader.cc:48] Successfully opened dynamic library libcublas.so.10\n",
      "2020-09-25 07:56:11.154204: I tensorflow/stream_executor/platform/default/dso_loader.cc:48] Successfully opened dynamic library libcufft.so.10\n",
      "2020-09-25 07:56:11.154249: I tensorflow/stream_executor/platform/default/dso_loader.cc:48] Successfully opened dynamic library libcurand.so.10\n",
      "2020-09-25 07:56:11.154299: I tensorflow/stream_executor/platform/default/dso_loader.cc:48] Successfully opened dynamic library libcusolver.so.10\n",
      "2020-09-25 07:56:11.154339: I tensorflow/stream_executor/platform/default/dso_loader.cc:48] Successfully opened dynamic library libcusparse.so.10\n",
      "2020-09-25 07:56:11.154381: I tensorflow/stream_executor/platform/default/dso_loader.cc:48] Successfully opened dynamic library libcudnn.so.7\n",
      "2020-09-25 07:56:11.154545: I tensorflow/stream_executor/cuda/cuda_gpu_executor.cc:982] successful NUMA node read from SysFS had negative value (-1), but there must be at least one NUMA node, so returning NUMA node zero\n",
      "2020-09-25 07:56:11.155359: I tensorflow/stream_executor/cuda/cuda_gpu_executor.cc:982] successful NUMA node read from SysFS had negative value (-1), but there must be at least one NUMA node, so returning NUMA node zero\n",
      "2020-09-25 07:56:11.156078: I tensorflow/core/common_runtime/gpu/gpu_device.cc:1858] Adding visible gpu devices: 0\n",
      "2020-09-25 07:56:11.156140: I tensorflow/stream_executor/platform/default/dso_loader.cc:48] Successfully opened dynamic library libcudart.so.10.1\n",
      "2020-09-25 07:56:11.676573: I tensorflow/core/common_runtime/gpu/gpu_device.cc:1257] Device interconnect StreamExecutor with strength 1 edge matrix:\n",
      "2020-09-25 07:56:11.676659: I tensorflow/core/common_runtime/gpu/gpu_device.cc:1263]      0 \n",
      "2020-09-25 07:56:11.676693: I tensorflow/core/common_runtime/gpu/gpu_device.cc:1276] 0:   N \n",
      "2020-09-25 07:56:11.676996: I tensorflow/stream_executor/cuda/cuda_gpu_executor.cc:982] successful NUMA node read from SysFS had negative value (-1), but there must be at least one NUMA node, so returning NUMA node zero\n",
      "2020-09-25 07:56:11.677897: I tensorflow/stream_executor/cuda/cuda_gpu_executor.cc:982] successful NUMA node read from SysFS had negative value (-1), but there must be at least one NUMA node, so returning NUMA node zero\n",
      "2020-09-25 07:56:11.678692: I tensorflow/core/common_runtime/gpu/gpu_device.cc:1402] Created TensorFlow device (/job:localhost/replica:0/task:0/device:GPU:0 with 10630 MB memory) -> physical GPU (device: 0, name: Tesla K80, pci bus id: 0000:00:04.0, compute capability: 3.7)\n",
      "1 Physical GPUs, 1 Logical GPUs\n",
      "  [] Running in debug mode\n",
      "    [] Overridding PILs DecompressionBombError\n",
      "  [*] Processing file /gdrive/My Drive/SAR/denoised/19648311_RH.png\n",
      "    [*] Normalizing image\n",
      "    [*] Normalizing mask\n",
      "    [*] Attempting to inpaint\n",
      "      [] Created tf variable 'U'\n",
      "      [] Created tf variable 'G'\n",
      "      [] Created tf variable 'M'\n",
      "      [] Constructing kernel....\n",
      "      [] Created kernel\n",
      "2020-09-25 07:56:26.195662: I tensorflow/stream_executor/cuda/cuda_gpu_executor.cc:982] successful NUMA node read from SysFS had negative value (-1), but there must be at least one NUMA node, so returning NUMA node zero\n",
      "2020-09-25 07:56:26.196489: I tensorflow/core/common_runtime/gpu/gpu_device.cc:1716] Found device 0 with properties: \n",
      "pciBusID: 0000:00:04.0 name: Tesla K80 computeCapability: 3.7\n",
      "coreClock: 0.8235GHz coreCount: 13 deviceMemorySize: 11.17GiB deviceMemoryBandwidth: 223.96GiB/s\n",
      "2020-09-25 07:56:26.196588: I tensorflow/stream_executor/platform/default/dso_loader.cc:48] Successfully opened dynamic library libcudart.so.10.1\n",
      "2020-09-25 07:56:26.196670: I tensorflow/stream_executor/platform/default/dso_loader.cc:48] Successfully opened dynamic library libcublas.so.10\n",
      "2020-09-25 07:56:26.196738: I tensorflow/stream_executor/platform/default/dso_loader.cc:48] Successfully opened dynamic library libcufft.so.10\n",
      "2020-09-25 07:56:26.196804: I tensorflow/stream_executor/platform/default/dso_loader.cc:48] Successfully opened dynamic library libcurand.so.10\n",
      "2020-09-25 07:56:26.196848: I tensorflow/stream_executor/platform/default/dso_loader.cc:48] Successfully opened dynamic library libcusolver.so.10\n",
      "2020-09-25 07:56:26.196890: I tensorflow/stream_executor/platform/default/dso_loader.cc:48] Successfully opened dynamic library libcusparse.so.10\n",
      "2020-09-25 07:56:26.196934: I tensorflow/stream_executor/platform/default/dso_loader.cc:48] Successfully opened dynamic library libcudnn.so.7\n",
      "2020-09-25 07:56:26.197072: I tensorflow/stream_executor/cuda/cuda_gpu_executor.cc:982] successful NUMA node read from SysFS had negative value (-1), but there must be at least one NUMA node, so returning NUMA node zero\n",
      "2020-09-25 07:56:26.197973: I tensorflow/stream_executor/cuda/cuda_gpu_executor.cc:982] successful NUMA node read from SysFS had negative value (-1), but there must be at least one NUMA node, so returning NUMA node zero\n",
      "2020-09-25 07:56:26.198741: I tensorflow/core/common_runtime/gpu/gpu_device.cc:1858] Adding visible gpu devices: 0\n",
      "2020-09-25 07:56:26.198799: I tensorflow/core/common_runtime/gpu/gpu_device.cc:1257] Device interconnect StreamExecutor with strength 1 edge matrix:\n",
      "2020-09-25 07:56:26.198822: I tensorflow/core/common_runtime/gpu/gpu_device.cc:1263]      0 \n",
      "2020-09-25 07:56:26.198837: I tensorflow/core/common_runtime/gpu/gpu_device.cc:1276] 0:   N \n",
      "2020-09-25 07:56:26.199046: I tensorflow/stream_executor/cuda/cuda_gpu_executor.cc:982] successful NUMA node read from SysFS had negative value (-1), but there must be at least one NUMA node, so returning NUMA node zero\n",
      "2020-09-25 07:56:26.199851: I tensorflow/stream_executor/cuda/cuda_gpu_executor.cc:982] successful NUMA node read from SysFS had negative value (-1), but there must be at least one NUMA node, so returning NUMA node zero\n",
      "2020-09-25 07:56:26.200567: I tensorflow/core/common_runtime/gpu/gpu_device.cc:1402] Created TensorFlow device (/job:localhost/replica:0/task:0/device:GPU:0 with 10630 MB memory) -> physical GPU (device: 0, name: Tesla K80, pci bus id: 0000:00:04.0, compute capability: 3.7)\n",
      "2020-09-25 07:56:27.704428: W tensorflow/core/framework/cpu_allocator_impl.cc:81] Allocation of 752473996 exceeds 10% of free system memory.\n",
      "2020-09-25 07:56:27.862202: W tensorflow/core/framework/cpu_allocator_impl.cc:81] Allocation of 752473996 exceeds 10% of free system memory.\n",
      "2020-09-25 07:56:28.049521: W tensorflow/core/framework/cpu_allocator_impl.cc:81] Allocation of 752473996 exceeds 10% of free system memory.\n",
      "2020-09-25 07:56:28.209966: W tensorflow/core/framework/cpu_allocator_impl.cc:81] Allocation of 752473996 exceeds 10% of free system memory.\n",
      "2020-09-25 07:56:28.366266: W tensorflow/core/framework/cpu_allocator_impl.cc:81] Allocation of 752473996 exceeds 10% of free system memory.\n",
      "2020-09-25 07:56:37.979519: I tensorflow/stream_executor/platform/default/dso_loader.cc:48] Successfully opened dynamic library libcudnn.so.7\n",
      "2020-09-25 07:56:46.208937: I tensorflow/stream_executor/platform/default/dso_loader.cc:48] Successfully opened dynamic library libcublas.so.10\n",
      "2020-09-25 07:56:56.455358: W tensorflow/core/common_runtime/bfc_allocator.cc:431] Allocator (GPU_0_bfc) ran out of memory trying to allocate 717.61MiB (rounded to 752474112)requested by op while/body/_1/mul_1\n",
      "Current allocation summary follows.\n",
      "2020-09-25 07:56:56.455455: I tensorflow/core/common_runtime/bfc_allocator.cc:970] BFCAllocator dump for GPU_0_bfc\n",
      "2020-09-25 07:56:56.455484: I tensorflow/core/common_runtime/bfc_allocator.cc:977] Bin (256): \tTotal Chunks: 2, Chunks in use: 2. 512B allocated for chunks. 512B in use in bin. 40B client-requested in use in bin.\n",
      "2020-09-25 07:56:56.455506: I tensorflow/core/common_runtime/bfc_allocator.cc:977] Bin (512): \tTotal Chunks: 0, Chunks in use: 0. 0B allocated for chunks. 0B in use in bin. 0B client-requested in use in bin.\n",
      "2020-09-25 07:56:56.455536: I tensorflow/core/common_runtime/bfc_allocator.cc:977] Bin (1024): \tTotal Chunks: 1, Chunks in use: 1. 1.2KiB allocated for chunks. 1.2KiB in use in bin. 1.0KiB client-requested in use in bin.\n",
      "2020-09-25 07:56:56.455564: I tensorflow/core/common_runtime/bfc_allocator.cc:977] Bin (2048): \tTotal Chunks: 0, Chunks in use: 0. 0B allocated for chunks. 0B in use in bin. 0B client-requested in use in bin.\n",
      "2020-09-25 07:56:56.455595: I tensorflow/core/common_runtime/bfc_allocator.cc:977] Bin (4096): \tTotal Chunks: 0, Chunks in use: 0. 0B allocated for chunks. 0B in use in bin. 0B client-requested in use in bin.\n",
      "2020-09-25 07:56:56.455621: I tensorflow/core/common_runtime/bfc_allocator.cc:977] Bin (8192): \tTotal Chunks: 0, Chunks in use: 0. 0B allocated for chunks. 0B in use in bin. 0B client-requested in use in bin.\n",
      "2020-09-25 07:56:56.455645: I tensorflow/core/common_runtime/bfc_allocator.cc:977] Bin (16384): \tTotal Chunks: 0, Chunks in use: 0. 0B allocated for chunks. 0B in use in bin. 0B client-requested in use in bin.\n",
      "2020-09-25 07:56:56.455667: I tensorflow/core/common_runtime/bfc_allocator.cc:977] Bin (32768): \tTotal Chunks: 0, Chunks in use: 0. 0B allocated for chunks. 0B in use in bin. 0B client-requested in use in bin.\n",
      "2020-09-25 07:56:56.455728: I tensorflow/core/common_runtime/bfc_allocator.cc:977] Bin (65536): \tTotal Chunks: 0, Chunks in use: 0. 0B allocated for chunks. 0B in use in bin. 0B client-requested in use in bin.\n",
      "2020-09-25 07:56:56.455751: I tensorflow/core/common_runtime/bfc_allocator.cc:977] Bin (131072): \tTotal Chunks: 0, Chunks in use: 0. 0B allocated for chunks. 0B in use in bin. 0B client-requested in use in bin.\n",
      "2020-09-25 07:56:56.455774: I tensorflow/core/common_runtime/bfc_allocator.cc:977] Bin (262144): \tTotal Chunks: 0, Chunks in use: 0. 0B allocated for chunks. 0B in use in bin. 0B client-requested in use in bin.\n",
      "2020-09-25 07:56:56.455796: I tensorflow/core/common_runtime/bfc_allocator.cc:977] Bin (524288): \tTotal Chunks: 0, Chunks in use: 0. 0B allocated for chunks. 0B in use in bin. 0B client-requested in use in bin.\n",
      "2020-09-25 07:56:56.455818: I tensorflow/core/common_runtime/bfc_allocator.cc:977] Bin (1048576): \tTotal Chunks: 0, Chunks in use: 0. 0B allocated for chunks. 0B in use in bin. 0B client-requested in use in bin.\n",
      "2020-09-25 07:56:56.455841: I tensorflow/core/common_runtime/bfc_allocator.cc:977] Bin (2097152): \tTotal Chunks: 0, Chunks in use: 0. 0B allocated for chunks. 0B in use in bin. 0B client-requested in use in bin.\n",
      "2020-09-25 07:56:56.455862: I tensorflow/core/common_runtime/bfc_allocator.cc:977] Bin (4194304): \tTotal Chunks: 0, Chunks in use: 0. 0B allocated for chunks. 0B in use in bin. 0B client-requested in use in bin.\n",
      "2020-09-25 07:56:56.455885: I tensorflow/core/common_runtime/bfc_allocator.cc:977] Bin (8388608): \tTotal Chunks: 0, Chunks in use: 0. 0B allocated for chunks. 0B in use in bin. 0B client-requested in use in bin.\n",
      "2020-09-25 07:56:56.455907: I tensorflow/core/common_runtime/bfc_allocator.cc:977] Bin (16777216): \tTotal Chunks: 0, Chunks in use: 0. 0B allocated for chunks. 0B in use in bin. 0B client-requested in use in bin.\n",
      "2020-09-25 07:56:56.455929: I tensorflow/core/common_runtime/bfc_allocator.cc:977] Bin (33554432): \tTotal Chunks: 0, Chunks in use: 0. 0B allocated for chunks. 0B in use in bin. 0B client-requested in use in bin.\n",
      "2020-09-25 07:56:56.455965: I tensorflow/core/common_runtime/bfc_allocator.cc:977] Bin (67108864): \tTotal Chunks: 0, Chunks in use: 0. 0B allocated for chunks. 0B in use in bin. 0B client-requested in use in bin.\n",
      "2020-09-25 07:56:56.455987: I tensorflow/core/common_runtime/bfc_allocator.cc:977] Bin (134217728): \tTotal Chunks: 0, Chunks in use: 0. 0B allocated for chunks. 0B in use in bin. 0B client-requested in use in bin.\n",
      "2020-09-25 07:56:56.456018: I tensorflow/core/common_runtime/bfc_allocator.cc:977] Bin (268435456): \tTotal Chunks: 17, Chunks in use: 12. 10.38GiB allocated for chunks. 8.41GiB in use in bin. 8.41GiB client-requested in use in bin.\n",
      "2020-09-25 07:56:56.456045: I tensorflow/core/common_runtime/bfc_allocator.cc:993] Bin for 717.62MiB was 256.00MiB, Chunk State: \n",
      "2020-09-25 07:56:56.456092: I tensorflow/core/common_runtime/bfc_allocator.cc:999]   Size: 285.50MiB | Requested Size: 36B | in_use: 0 | bin_num: 20, prev:   Size: 717.62MiB | Requested Size: 717.61MiB | in_use: 1 | bin_num: -1\n",
      "2020-09-25 07:56:56.456119: I tensorflow/core/common_runtime/bfc_allocator.cc:999]   Size: 306.38MiB | Requested Size: 36B | in_use: 0 | bin_num: 20, prev:   Size: 256B | Requested Size: 4B | in_use: 1 | bin_num: -1\n",
      "2020-09-25 07:56:56.456145: I tensorflow/core/common_runtime/bfc_allocator.cc:999]   Size: 306.38MiB | Requested Size: 0B | in_use: 0 | bin_num: 20, prev:   Size: 717.62MiB | Requested Size: 717.61MiB | in_use: 1 | bin_num: -1\n",
      "2020-09-25 07:56:56.456171: I tensorflow/core/common_runtime/bfc_allocator.cc:999]   Size: 507.92MiB | Requested Size: 0B | in_use: 0 | bin_num: 20, prev:   Size: 717.62MiB | Requested Size: 717.61MiB | in_use: 1 | bin_num: -1\n",
      "2020-09-25 07:56:56.456204: I tensorflow/core/common_runtime/bfc_allocator.cc:999]   Size: 612.77MiB | Requested Size: 0B | in_use: 0 | bin_num: 20, prev:   Size: 717.62MiB | Requested Size: 717.61MiB | in_use: 1 | bin_num: -1\n",
      "2020-09-25 07:56:56.456233: I tensorflow/core/common_runtime/bfc_allocator.cc:1006] Next region of size 1073741824\n",
      "2020-09-25 07:56:56.456259: I tensorflow/core/common_runtime/bfc_allocator.cc:1026] InUse at 703d60000 of size 752474112 next 1\n",
      "2020-09-25 07:56:56.456280: I tensorflow/core/common_runtime/bfc_allocator.cc:1026] InUse at 730afd800 of size 1280 next 4\n",
      "2020-09-25 07:56:56.456301: I tensorflow/core/common_runtime/bfc_allocator.cc:1026] InUse at 730afdd00 of size 256 next 5\n",
      "2020-09-25 07:56:56.456321: I tensorflow/core/common_runtime/bfc_allocator.cc:1026] InUse at 730afde00 of size 256 next 6\n",
      "2020-09-25 07:56:56.456342: I tensorflow/core/common_runtime/bfc_allocator.cc:1026] Free  at 730afdf00 of size 321265920 next 18446744073709551615\n",
      "2020-09-25 07:56:56.456363: I tensorflow/core/common_runtime/bfc_allocator.cc:1006] Next region of size 1073741824\n",
      "2020-09-25 07:56:56.456383: I tensorflow/core/common_runtime/bfc_allocator.cc:1026] InUse at 743d60000 of size 752474112 next 3\n",
      "2020-09-25 07:56:56.456403: I tensorflow/core/common_runtime/bfc_allocator.cc:1026] Free  at 770afd800 of size 321267712 next 18446744073709551615\n",
      "2020-09-25 07:56:56.456423: I tensorflow/core/common_runtime/bfc_allocator.cc:1006] Next region of size 2147483648\n",
      "2020-09-25 07:56:56.456444: I tensorflow/core/common_runtime/bfc_allocator.cc:1026] InUse at 783d60000 of size 752474112 next 8\n",
      "2020-09-25 07:56:56.456464: I tensorflow/core/common_runtime/bfc_allocator.cc:1026] InUse at 7b0afd800 of size 752474112 next 9\n",
      "2020-09-25 07:56:56.456484: I tensorflow/core/common_runtime/bfc_allocator.cc:1026] Free  at 7dd89b000 of size 642535424 next 18446744073709551615\n",
      "2020-09-25 07:56:56.456503: I tensorflow/core/common_runtime/bfc_allocator.cc:1006] Next region of size 4294967296\n",
      "2020-09-25 07:56:56.456523: I tensorflow/core/common_runtime/bfc_allocator.cc:1026] InUse at 8071e0000 of size 752474112 next 12\n",
      "2020-09-25 07:56:56.456543: I tensorflow/core/common_runtime/bfc_allocator.cc:1026] InUse at 833f7d800 of size 752474112 next 15\n",
      "2020-09-25 07:56:56.456563: I tensorflow/core/common_runtime/bfc_allocator.cc:1026] InUse at 860d1b000 of size 752474112 next 13\n",
      "2020-09-25 07:56:56.456582: I tensorflow/core/common_runtime/bfc_allocator.cc:1026] InUse at 88dab8800 of size 752474112 next 18\n",
      "2020-09-25 07:56:56.456604: I tensorflow/core/common_runtime/bfc_allocator.cc:1026] InUse at 8ba856000 of size 752474112 next 19\n",
      "2020-09-25 07:56:56.456624: I tensorflow/core/common_runtime/bfc_allocator.cc:1026] Free  at 8e75f3800 of size 532596736 next 18446744073709551615\n",
      "2020-09-25 07:56:56.456643: I tensorflow/core/common_runtime/bfc_allocator.cc:1006] Next region of size 2556787456\n",
      "2020-09-25 07:56:56.456663: I tensorflow/core/common_runtime/bfc_allocator.cc:1026] InUse at 9071e0000 of size 752474112 next 17\n",
      "2020-09-25 07:56:56.456700: I tensorflow/core/common_runtime/bfc_allocator.cc:1026] InUse at 933f7d800 of size 752474112 next 14\n",
      "2020-09-25 07:56:56.456722: I tensorflow/core/common_runtime/bfc_allocator.cc:1026] InUse at 960d1b000 of size 752474112 next 10\n",
      "2020-09-25 07:56:56.456744: I tensorflow/core/common_runtime/bfc_allocator.cc:1026] Free  at 98dab8800 of size 299365120 next 18446744073709551615\n",
      "2020-09-25 07:56:56.456764: I tensorflow/core/common_runtime/bfc_allocator.cc:1031]      Summary of in-use Chunks by size: \n",
      "2020-09-25 07:56:56.456785: I tensorflow/core/common_runtime/bfc_allocator.cc:1034] 2 Chunks of size 256 totalling 512B\n",
      "2020-09-25 07:56:56.456808: I tensorflow/core/common_runtime/bfc_allocator.cc:1034] 1 Chunks of size 1280 totalling 1.2KiB\n",
      "2020-09-25 07:56:56.456831: I tensorflow/core/common_runtime/bfc_allocator.cc:1034] 12 Chunks of size 752474112 totalling 8.41GiB\n",
      "2020-09-25 07:56:56.456853: I tensorflow/core/common_runtime/bfc_allocator.cc:1038] Sum Total of in-use chunks: 8.41GiB\n",
      "2020-09-25 07:56:56.456873: I tensorflow/core/common_runtime/bfc_allocator.cc:1040] total_region_allocated_bytes_: 11146722048 memory_limit_: 11146722048 available bytes: 0 curr_region_allocation_bytes_: 17179869184\n",
      "2020-09-25 07:56:56.456910: I tensorflow/core/common_runtime/bfc_allocator.cc:1046] Stats: \n",
      "Limit:                     11146722048\n",
      "InUse:                      9029691136\n",
      "MaxInUse:                   9029691392\n",
      "NumAllocs:                          64\n",
      "MaxAllocSize:                769251328\n",
      "Reserved:                            0\n",
      "PeakReserved:                        0\n",
      "LargestFreeBlock:                    0\n",
      "\n",
      "2020-09-25 07:56:56.456938: W tensorflow/core/common_runtime/bfc_allocator.cc:439] *******__********__**************_____***********************************____*********************__\n",
      "2020-09-25 07:56:56.456989: W tensorflow/core/framework/op_kernel.cc:1767] OP_REQUIRES failed at cwise_ops_common.h:134 : Resource exhausted: OOM when allocating tensor with shape[13973,13463] and type float on /job:localhost/replica:0/task:0/device:GPU:0 by allocator GPU_0_bfc\n",
      "Traceback (most recent call last):\n",
      "  File \"/usr/local/lib/python3.6/dist-packages/tensorflow/python/client/session.py\", line 1365, in _do_call\n",
      "    return fn(*args)\n",
      "  File \"/usr/local/lib/python3.6/dist-packages/tensorflow/python/client/session.py\", line 1350, in _run_fn\n",
      "    target_list, run_metadata)\n",
      "  File \"/usr/local/lib/python3.6/dist-packages/tensorflow/python/client/session.py\", line 1443, in _call_tf_sessionrun\n",
      "    run_metadata)\n",
      "tensorflow.python.framework.errors_impl.ResourceExhaustedError: 2 root error(s) found.\n",
      "  (0) Resource exhausted: OOM when allocating tensor with shape[13973,13463] and type float on /job:localhost/replica:0/task:0/device:GPU:0 by allocator GPU_0_bfc\n",
      "\t [[{{node mul_1}}]]\n",
      "Hint: If you want to see a list of allocated tensors when OOM happens, add report_tensor_allocations_upon_oom to RunOptions for current allocation info.\n",
      "\n",
      "\t [[while/Identity_3/_1]]\n",
      "Hint: If you want to see a list of allocated tensors when OOM happens, add report_tensor_allocations_upon_oom to RunOptions for current allocation info.\n",
      "\n",
      "  (1) Resource exhausted: OOM when allocating tensor with shape[13973,13463] and type float on /job:localhost/replica:0/task:0/device:GPU:0 by allocator GPU_0_bfc\n",
      "\t [[{{node mul_1}}]]\n",
      "Hint: If you want to see a list of allocated tensors when OOM happens, add report_tensor_allocations_upon_oom to RunOptions for current allocation info.\n",
      "\n",
      "0 successful operations.\n",
      "0 derived errors ignored.\n",
      "\n",
      "During handling of the above exception, another exception occurred:\n",
      "\n",
      "Traceback (most recent call last):\n",
      "  File \"inpaint.py\", line 183, in <module>\n",
      "    singleMode()\n",
      "  File \"inpaint.py\", line 158, in singleMode\n",
      "    inpainted = inpaint(masked,mask)\n",
      "  File \"inpaint.py\", line 99, in inpaint\n",
      "    U = uf.eval()\n",
      "  File \"/usr/local/lib/python3.6/dist-packages/tensorflow/python/framework/ops.py\", line 913, in eval\n",
      "    return _eval_using_default_session(self, feed_dict, self.graph, session)\n",
      "  File \"/usr/local/lib/python3.6/dist-packages/tensorflow/python/framework/ops.py\", line 5512, in _eval_using_default_session\n",
      "    return session.run(tensors, feed_dict)\n",
      "  File \"/usr/local/lib/python3.6/dist-packages/tensorflow/python/client/session.py\", line 958, in run\n",
      "    run_metadata_ptr)\n",
      "  File \"/usr/local/lib/python3.6/dist-packages/tensorflow/python/client/session.py\", line 1181, in _run\n",
      "    feed_dict_tensor, options, run_metadata)\n",
      "  File \"/usr/local/lib/python3.6/dist-packages/tensorflow/python/client/session.py\", line 1359, in _do_run\n",
      "    run_metadata)\n",
      "  File \"/usr/local/lib/python3.6/dist-packages/tensorflow/python/client/session.py\", line 1384, in _do_call\n",
      "    raise type(e)(node_def, op, message)\n",
      "tensorflow.python.framework.errors_impl.ResourceExhaustedError: 2 root error(s) found.\n",
      "  (0) Resource exhausted: OOM when allocating tensor with shape[13973,13463] and type float on /job:localhost/replica:0/task:0/device:GPU:0 by allocator GPU_0_bfc\n",
      "\t [[{{node mul_1}}]]\n",
      "Hint: If you want to see a list of allocated tensors when OOM happens, add report_tensor_allocations_upon_oom to RunOptions for current allocation info.\n",
      "\n",
      "\t [[while/Identity_3/_1]]\n",
      "Hint: If you want to see a list of allocated tensors when OOM happens, add report_tensor_allocations_upon_oom to RunOptions for current allocation info.\n",
      "\n",
      "  (1) Resource exhausted: OOM when allocating tensor with shape[13973,13463] and type float on /job:localhost/replica:0/task:0/device:GPU:0 by allocator GPU_0_bfc\n",
      "\t [[{{node mul_1}}]]\n",
      "Hint: If you want to see a list of allocated tensors when OOM happens, add report_tensor_allocations_upon_oom to RunOptions for current allocation info.\n",
      "\n",
      "0 successful operations.\n",
      "0 derived errors ignored.\n"
     ]
    }
   ],
   "source": [
    "!python inpaint.py --img_dir='/gdrive/My Drive/SAR/denoised/196488331_RV.png' \\\n",
    "                   --mask_dir='/gdrive/My Drive/SAR/mask' \\\n",
    "                   --out_dir='/gdrive/My Drive/SAR/inpainted' \\\n",
    "                   --debug=1"
   ]
  },
  {
   "cell_type": "code",
   "execution_count": null,
   "metadata": {
    "colab": {},
    "colab_type": "code",
    "id": "R_ucOkAdEXmx"
   },
   "outputs": [],
   "source": []
  }
 ],
 "metadata": {
  "accelerator": "GPU",
  "colab": {
   "authorship_tag": "ABX9TyP6I+/d1bYpFhksk6dA45Np",
   "collapsed_sections": [],
   "name": "Inpainting.ipynb",
   "provenance": [],
   "toc_visible": true
  },
  "kernelspec": {
   "display_name": "Python 3",
   "language": "python",
   "name": "python3"
  },
  "language_info": {
   "codemirror_mode": {
    "name": "ipython",
    "version": 3
   },
   "file_extension": ".py",
   "mimetype": "text/x-python",
   "name": "python",
   "nbconvert_exporter": "python",
   "pygments_lexer": "ipython3",
   "version": "3.8.5"
  }
 },
 "nbformat": 4,
 "nbformat_minor": 4
}
