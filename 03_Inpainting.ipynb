{
 "cells": [
  {
   "cell_type": "markdown",
   "metadata": {
    "colab_type": "text",
    "id": "9UP8BjWVZLa_"
   },
   "source": [
    "## Inpainting"
   ]
  },
  {
   "cell_type": "markdown",
   "metadata": {
    "colab_type": "text",
    "id": "d5tnpWg2ZLbA"
   },
   "source": [
    "### Import Libraries"
   ]
  },
  {
   "cell_type": "code",
   "execution_count": null,
   "metadata": {
    "colab": {},
    "colab_type": "code",
    "id": "Vm7wfYwgZLbB"
   },
   "outputs": [],
   "source": [
    "#Import libraries for simulation\n",
    "import os\n",
    "import time\n",
    "import sys\n",
    "import tensorflow as tf\n",
    "import numpy as np\n",
    "import cv2\n",
    "import matplotlib.pyplot as plt\n",
    "from skimage.measure import compare_ssim as ssim\n",
    "\n",
    "os.environ['TF_CPP_MIN_LOG_LEVEL'] = '3'"
   ]
  },
  {
   "cell_type": "code",
   "execution_count": null,
   "metadata": {
    "colab": {},
    "colab_type": "code",
    "id": "BI9uKEovZLbF"
   },
   "outputs": [],
   "source": [
    "def make_kernel(a):\n",
    "  \"\"\"Transform a 2D array into a convolution kernel\"\"\"\n",
    "  a = np.asarray(a)\n",
    "  a = a.reshape(list(a.shape) + [1,1])\n",
    "  return tf.constant(a, dtype=1)"
   ]
  },
  {
   "cell_type": "code",
   "execution_count": null,
   "metadata": {
    "colab": {},
    "colab_type": "code",
    "id": "38yBIJaTZLbI"
   },
   "outputs": [],
   "source": [
    "def heat_conv(input, kernel):\n",
    "  \"\"\"A simplified 2D convolution operation for Heat Equation\"\"\"\n",
    "  input = tf.expand_dims(tf.expand_dims(input, 0), -1)\n",
    "\n",
    "  result = tf.nn.depthwise_conv2d(input=input, filter=kernel,\n",
    "                                    strides=[1, 1, 1, 1],\n",
    "                                    padding='SAME')\n",
    "\n",
    "  return result[0, :, :, 0]"
   ]
  },
  {
   "cell_type": "code",
   "execution_count": null,
   "metadata": {
    "colab": {},
    "colab_type": "code",
    "id": "sBJ7nxJ2ZLbK"
   },
   "outputs": [],
   "source": [
    "def show_viz(i,original, masked, mask, inpainted):\n",
    "    \"\"\"Show Image using matplotlib\"\"\"\n",
    "    plt.figure(i)\n",
    "    plt.subplot(221), plt.imshow(original, 'gray')\n",
    "    plt.title('original image')\n",
    "    plt.subplot(222), plt.imshow(masked, 'gray')\n",
    "    plt.title('source image')\n",
    "    plt.subplot(223), plt.imshow(mask, 'gray')\n",
    "    plt.title('mask image')\n",
    "    plt.subplot(224), plt.imshow(inpainted, 'gray')\n",
    "    plt.title('inpaint result')\n",
    "\n",
    "    plt.tight_layout()\n",
    "    plt.draw()"
   ]
  },
  {
   "cell_type": "code",
   "execution_count": null,
   "metadata": {
    "colab": {},
    "colab_type": "code",
    "id": "ApehVLlqZLbN"
   },
   "outputs": [],
   "source": [
    "def show_ssim(original, masked, inpainted):\n",
    "    \"\"\"Show SSIM Difference\"\"\"\n",
    "    print(\"SSIM : \")\n",
    "    print(\"  Original vs. Original  : \", ssim(original,original))\n",
    "    print(\"  Original vs. Masked    : \", ssim(original,masked))\n",
    "    print(\"  Original vs. Inpainted : \", ssim(original,inpainted))"
   ]
  },
  {
   "cell_type": "code",
   "execution_count": null,
   "metadata": {
    "colab": {},
    "colab_type": "code",
    "id": "SuaVNnmGZLbQ"
   },
   "outputs": [],
   "source": [
    "def inpaint(masked, mask):\n",
    "    # Init variable\n",
    "    N = 2000\n",
    "    ROOT_DIR = os.getcwd()\n",
    "\n",
    "    # Create variables for simulation state\n",
    "    U = tf.Variable(masked)\n",
    "    print(\"Created tf variable 'U'\")\n",
    "    G = tf.Variable(masked)\n",
    "    print(\"Created tf variable 'G'\")\n",
    "    M = tf.Variable(np.multiply(mask,1))\n",
    "    print(\"Created tf variable 'M'\")\n",
    "    \n",
    "    print(\"Constructing kernel....\")\n",
    "    K = make_kernel([[0.0, 1.0, 0.0],\n",
    "                     [1.0, -4., 1.0],\n",
    "                     [0.0, 1.0, 0.0]])\n",
    "    print(\"Created kernel\")\n",
    "\n",
    "    dt = tf.compat.v1.placeholder(tf.float16, shape=())\n",
    "\n",
    "    \"\"\"Discretized PDE update rules\"\"\"\n",
    "    \"\"\"u[i,j] = u[i,j] + dt * (u[i+1,j] + u[i-1,j] + u[i,j+1] + u[i,j-1] - 4*u[i,j]) - dt * lambda_m[i,j]*(u[i,j]-g[i,j])\"\"\"\n",
    "\n",
    "    #Tensorflow while_loop function, iterate the PDE N times.\n",
    "    index_summation = (tf.constant(1), U, M, G, K)\n",
    "    def condition(i, U, M, G, K):\n",
    "        return tf.less(i, 100)\n",
    "\n",
    "    def body(i,U,M,G,K):\n",
    "        U_ = U + 0.1 * heat_conv(U,K) - 0.1 * M * (U-G)\n",
    "        print(i)\n",
    "        return tf.add(i, 1), U_, M, G, K\n",
    "\n",
    "    #Tensorflow Session\n",
    "    with tf.compat.v1.Session():\n",
    "        # Initialize state to initial conditions\n",
    "        tf.compat.v1.global_variables_initializer().run()\n",
    "\n",
    "        #Run PDE using tensorflow while_loop\n",
    "        t = time.time()\n",
    "        uf=tf.while_loop(cond=condition, body=body, loop_vars=index_summation)[1]\n",
    "        U = uf.eval()\n",
    "\n",
    "    print(\"Execution Time : {} s\".format(time.time()-t))\n",
    "\n",
    "    return U"
   ]
  },
  {
   "cell_type": "markdown",
   "metadata": {
    "colab_type": "text",
    "id": "Ows4HtThZLbS"
   },
   "source": [
    "## Inpainting"
   ]
  },
  {
   "cell_type": "code",
   "execution_count": null,
   "metadata": {
    "colab": {
     "base_uri": "https://localhost:8080/",
     "height": 34
    },
    "colab_type": "code",
    "id": "ffRbU7gnZjXE",
    "outputId": "40d42407-62f5-4e09-9c54-10666852aa9f"
   },
   "outputs": [
    {
     "name": "stdout",
     "output_type": "stream",
     "text": [
      "Drive already mounted at /gdrive; to attempt to forcibly remount, call drive.mount(\"/gdrive\", force_remount=True).\n"
     ]
    }
   ],
   "source": [
    "from google.colab import drive\n",
    "drive.mount('/gdrive')"
   ]
  },
  {
   "cell_type": "code",
   "execution_count": null,
   "metadata": {
    "colab": {
     "base_uri": "https://localhost:8080/",
     "height": 51
    },
    "colab_type": "code",
    "id": "HoQ0r_N0Zktg",
    "outputId": "157d3470-5018-44cc-8ea1-4e10f47f8acf"
   },
   "outputs": [
    {
     "name": "stdout",
     "output_type": "stream",
     "text": [
      "Despeckling.gdoc       image1_mask.png\timage1_.png\n",
      "image1_inpaint_tf.jpg  image1_ori.png\n"
     ]
    }
   ],
   "source": [
    "!ls '/gdrive/My Drive/payload'"
   ]
  },
  {
   "cell_type": "code",
   "execution_count": null,
   "metadata": {
    "colab": {},
    "colab_type": "code",
    "id": "dqXUvwypZLbT"
   },
   "outputs": [],
   "source": [
    "# IMG_DIR = os.path.join('/gdrive', 'dataset')\n",
    "DATA_DIR = '/gdrive/My Drive/SAR'\n",
    "\n",
    "IMG_DIR = os.path.join(DATA_DIR, 'denoised')\n",
    "MASK_DIR = os.path.join(DATA_DIR, 'mask')\n",
    "\n",
    "tf.compat.v1.disable_eager_execution()"
   ]
  },
  {
   "cell_type": "code",
   "execution_count": null,
   "metadata": {
    "colab": {
     "base_uri": "https://localhost:8080/",
     "height": 34
    },
    "colab_type": "code",
    "id": "J8XyIXH_ZLbX",
    "outputId": "11d10d02-2366-4bdc-b5f7-9bfb312d506e"
   },
   "outputs": [
    {
     "name": "stdout",
     "output_type": "stream",
     "text": [
      "1 Physical GPUs, 1 Logical GPUs\n"
     ]
    }
   ],
   "source": [
    "gpus = tf.config.experimental.list_physical_devices('GPU')\n",
    "if gpus:\n",
    "    try:\n",
    "        # Currently, memory growth needs to be the same across GPUs\n",
    "        for gpu in gpus:\n",
    "            tf.config.experimental.set_memory_growth(gpu, True)\n",
    "        logical_gpus = tf.config.experimental.list_logical_devices('GPU')\n",
    "        print(len(gpus), \"Physical GPUs,\", len(logical_gpus), \"Logical GPUs\")\n",
    "    except RuntimeError as e:\n",
    "        # Memory growth must be set before GPUs have been initialized\n",
    "        print(e)"
   ]
  },
  {
   "cell_type": "code",
   "execution_count": null,
   "metadata": {
    "colab": {},
    "colab_type": "code",
    "id": "jkSm74T1ZLbb"
   },
   "outputs": [],
   "source": [
    "original = cv2.imread(os.path.join(IMG_DIR, 'image{}_ori.png'.format(1)),0)\n",
    "masked = cv2.imread(os.path.join(IMG_DIR, 'image{}_.png'.format(1)),0)\n",
    "mask = cv2.imread(os.path.join(IMG_DIR, 'image{}_mask.png'.format(1)),0)"
   ]
  },
  {
   "cell_type": "code",
   "execution_count": null,
   "metadata": {
    "colab": {},
    "colab_type": "code",
    "id": "_-RJl66tZLbd"
   },
   "outputs": [],
   "source": [
    "original = cv2.normalize(original, None, alpha=0, beta=1, norm_type=cv2.NORM_MINMAX, dtype=cv2.CV_32F)\n",
    "masked = cv2.normalize(masked, None, alpha=0, beta=1, norm_type=cv2.NORM_MINMAX, dtype=cv2.CV_32F)\n",
    "mask = 1-cv2.normalize(mask, None, alpha=0, beta=1, norm_type=cv2.NORM_MINMAX, dtype=cv2.CV_32F)"
   ]
  },
  {
   "cell_type": "code",
   "execution_count": null,
   "metadata": {
    "colab": {
     "base_uri": "https://localhost:8080/",
     "height": 170
    },
    "colab_type": "code",
    "id": "V4XBTfhEZLbg",
    "outputId": "f57eb988-2779-43f3-bcc8-44b59cd48aa7"
   },
   "outputs": [
    {
     "name": "stdout",
     "output_type": "stream",
     "text": [
      "\n",
      "File : image1_.png (13973, 13463)\n",
      "Created tf variable 'U'\n",
      "Created tf variable 'G'\n",
      "Created tf variable 'M'\n",
      "Constructing kernel....\n",
      "Created kernel\n",
      "Tensor(\"Placeholder:0\", shape=(), dtype=int32)\n",
      "Execution Time : 22.448574542999268 s\n"
     ]
    }
   ],
   "source": [
    "print(\"\\nFile : image{}_.png {}\".format(1,masked.shape))\n",
    "inpainted = inpaint(masked,mask)"
   ]
  },
  {
   "cell_type": "code",
   "execution_count": null,
   "metadata": {
    "colab": {
     "base_uri": "https://localhost:8080/",
     "height": 34
    },
    "colab_type": "code",
    "id": "KiO6CGr1aXzD",
    "outputId": "ffddb7fe-4df3-4e08-e4f8-31c709005565"
   },
   "outputs": [
    {
     "data": {
      "text/plain": [
       "True"
      ]
     },
     "execution_count": 16,
     "metadata": {
      "tags": []
     },
     "output_type": "execute_result"
    }
   ],
   "source": [
    "cv2.imwrite(\"/gdrive/My Drive/payload/image{}_inpaint_tf.jpg\".format(1),inpainted*255)"
   ]
  },
  {
   "cell_type": "code",
   "execution_count": null,
   "metadata": {
    "colab": {
     "base_uri": "https://localhost:8080/",
     "height": 88
    },
    "colab_type": "code",
    "id": "CZ36pVizjqRw",
    "outputId": "d097d773-32d5-440d-aadc-a941e5b01f09"
   },
   "outputs": [
    {
     "name": "stdout",
     "output_type": "stream",
     "text": [
      "SSIM : \n"
     ]
    },
    {
     "name": "stderr",
     "output_type": "stream",
     "text": [
      "/usr/local/lib/python3.6/dist-packages/ipykernel_launcher.py:4: UserWarning: DEPRECATED: skimage.measure.compare_ssim has been moved to skimage.metrics.structural_similarity. It will be removed from skimage.measure in version 0.18.\n",
      "  after removing the cwd from sys.path.\n"
     ]
    }
   ],
   "source": [
    "show_ssim(original,masked,inpainted)"
   ]
  },
  {
   "cell_type": "markdown",
   "metadata": {
    "colab_type": "text",
    "id": "Tz6950PQZLbi"
   },
   "source": [
    "## Tensor Cores"
   ]
  },
  {
   "cell_type": "code",
   "execution_count": null,
   "metadata": {
    "colab": {},
    "colab_type": "code",
    "id": "53kU6sMzZLbj",
    "outputId": "5e9a419b-24c0-4466-b957-7c4bc1f2e181"
   },
   "outputs": [
    {
     "name": "stdout",
     "output_type": "stream",
     "text": [
      "INFO:tensorflow:Mixed precision compatibility check (mixed_float16): OK\n",
      "Your GPU will likely run quickly with dtype policy mixed_float16 as it has compute capability of at least 7.0. Your GPU: GeForce RTX 2060, compute capability 7.5\n"
     ]
    }
   ],
   "source": [
    "# On TPUs, use 'mixed_bfloat16' instead\n",
    "from tensorflow.keras.mixed_precision import experimental as mixed_precision\n",
    "\n",
    "policy = tf.keras.mixed_precision.experimental.Policy('mixed_float16')\n",
    "mixed_precision.set_policy(policy)"
   ]
  },
  {
   "cell_type": "code",
   "execution_count": null,
   "metadata": {
    "colab": {},
    "colab_type": "code",
    "id": "TkAS2hxJZLbl",
    "outputId": "b2b908e3-e6d5-425d-d8fd-b80d308ab2e9"
   },
   "outputs": [
    {
     "name": "stdout",
     "output_type": "stream",
     "text": [
      "Compute dtype: float16\n",
      "Variable dtype: float32\n"
     ]
    }
   ],
   "source": [
    "print('Compute dtype: %s' % policy.compute_dtype)\n",
    "print('Variable dtype: %s' % policy.variable_dtype)"
   ]
  },
  {
   "cell_type": "code",
   "execution_count": null,
   "metadata": {
    "colab": {
     "base_uri": "https://localhost:8080/",
     "height": 180
    },
    "colab_type": "code",
    "id": "miF8bMDok9f9",
    "outputId": "01a1ee27-7b73-40a0-bccd-91a6a616a0da"
   },
   "outputs": [
    {
     "ename": "NameError",
     "evalue": "ignored",
     "output_type": "error",
     "traceback": [
      "\u001b[0;31m---------------------------------------------------------------------------\u001b[0m",
      "\u001b[0;31mNameError\u001b[0m                                 Traceback (most recent call last)",
      "\u001b[0;32m<ipython-input-1-c841b5ae3693>\u001b[0m in \u001b[0;36m<module>\u001b[0;34m()\u001b[0m\n\u001b[0;32m----> 1\u001b[0;31m \u001b[0moriginal\u001b[0m \u001b[0;34m=\u001b[0m \u001b[0mcv2\u001b[0m\u001b[0;34m.\u001b[0m\u001b[0mimread\u001b[0m\u001b[0;34m(\u001b[0m\u001b[0mos\u001b[0m\u001b[0;34m.\u001b[0m\u001b[0mpath\u001b[0m\u001b[0;34m.\u001b[0m\u001b[0mjoin\u001b[0m\u001b[0;34m(\u001b[0m\u001b[0mIMG_DIR\u001b[0m\u001b[0;34m,\u001b[0m \u001b[0;34m'image{}_ori.png'\u001b[0m\u001b[0;34m.\u001b[0m\u001b[0mformat\u001b[0m\u001b[0;34m(\u001b[0m\u001b[0;36m1\u001b[0m\u001b[0;34m)\u001b[0m\u001b[0;34m)\u001b[0m\u001b[0;34m,\u001b[0m\u001b[0;36m0\u001b[0m\u001b[0;34m)\u001b[0m\u001b[0;34m\u001b[0m\u001b[0;34m\u001b[0m\u001b[0m\n\u001b[0m\u001b[1;32m      2\u001b[0m \u001b[0mmasked\u001b[0m \u001b[0;34m=\u001b[0m \u001b[0mcv2\u001b[0m\u001b[0;34m.\u001b[0m\u001b[0mimread\u001b[0m\u001b[0;34m(\u001b[0m\u001b[0mos\u001b[0m\u001b[0;34m.\u001b[0m\u001b[0mpath\u001b[0m\u001b[0;34m.\u001b[0m\u001b[0mjoin\u001b[0m\u001b[0;34m(\u001b[0m\u001b[0mIMG_DIR\u001b[0m\u001b[0;34m,\u001b[0m \u001b[0;34m'image{}_.png'\u001b[0m\u001b[0;34m.\u001b[0m\u001b[0mformat\u001b[0m\u001b[0;34m(\u001b[0m\u001b[0;36m1\u001b[0m\u001b[0;34m)\u001b[0m\u001b[0;34m)\u001b[0m\u001b[0;34m,\u001b[0m\u001b[0;36m0\u001b[0m\u001b[0;34m)\u001b[0m\u001b[0;34m\u001b[0m\u001b[0;34m\u001b[0m\u001b[0m\n",
      "\u001b[0;31mNameError\u001b[0m: name 'cv2' is not defined"
     ]
    }
   ],
   "source": [
    "original = cv2.imread(os.path.join(IMG_DIR, 'image{}_ori.png'.format(1)),0)\n",
    "masked = cv2.imread(os.path.join(IMG_DIR, 'image{}_.png'.format(1)),0)"
   ]
  },
  {
   "cell_type": "code",
   "execution_count": null,
   "metadata": {
    "colab": {},
    "colab_type": "code",
    "id": "wbD2f0a_lOJ7"
   },
   "outputs": [],
   "source": [
    "original = cv2.normalize(original, None, alpha=0, beta=1, norm_type=cv2.NORM_MINMAX, dtype=cv2.CV_32F)\n",
    "masked = cv2.normalize(masked, None, alpha=0, beta=1, norm_type=cv2.NORM_MINMAX, dtype=cv2.CV_32F)"
   ]
  },
  {
   "cell_type": "code",
   "execution_count": null,
   "metadata": {
    "colab": {
     "base_uri": "https://localhost:8080/",
     "height": 71
    },
    "colab_type": "code",
    "id": "9w7Z_0AUZLbo",
    "outputId": "6aba5982-483a-4647-c4b6-b7c3fd015618"
   },
   "outputs": [
    {
     "name": "stderr",
     "output_type": "stream",
     "text": [
      "/usr/local/lib/python3.6/dist-packages/ipykernel_launcher.py:1: UserWarning: DEPRECATED: skimage.measure.compare_ssim has been moved to skimage.metrics.structural_similarity. It will be removed from skimage.measure in version 0.18.\n",
      "  \"\"\"Entry point for launching an IPython kernel.\n"
     ]
    }
   ],
   "source": [
    "print(\"  Original vs. Masked    : \", ssim(original,masked))"
   ]
  },
  {
   "cell_type": "code",
   "execution_count": null,
   "metadata": {
    "colab": {},
    "colab_type": "code",
    "id": "7AJApkhalHLU"
   },
   "outputs": [],
   "source": []
  }
 ],
 "metadata": {
  "accelerator": "GPU",
  "colab": {
   "name": "Inpainting.ipynb",
   "provenance": [],
   "toc_visible": true
  },
  "kernelspec": {
   "display_name": "Python 3",
   "language": "python",
   "name": "python3"
  },
  "language_info": {
   "codemirror_mode": {
    "name": "ipython",
    "version": 3
   },
   "file_extension": ".py",
   "mimetype": "text/x-python",
   "name": "python",
   "nbconvert_exporter": "python",
   "pygments_lexer": "ipython3",
   "version": "3.8.2"
  }
 },
 "nbformat": 4,
 "nbformat_minor": 4
}
