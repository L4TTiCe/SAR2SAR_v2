{
 "cells": [
  {
   "cell_type": "markdown",
   "metadata": {},
   "source": [
    "## Metrics Evaluation\n",
    "### Import Libraries"
   ]
  },
  {
   "cell_type": "code",
   "execution_count": 2,
   "metadata": {},
   "outputs": [],
   "source": [
    "import numpy as np\n",
    "import cv2 as cv\n",
    "from PIL import Image, UnidentifiedImageError\n",
    "import os"
   ]
  },
  {
   "cell_type": "code",
   "execution_count": 3,
   "metadata": {},
   "outputs": [],
   "source": [
    "Image.MAX_IMAGE_PIXELS = None  # Override PIL's DecompressionBombError"
   ]
  },
  {
   "cell_type": "markdown",
   "metadata": {},
   "source": [
    "## Load in noisy and final Images"
   ]
  },
  {
   "cell_type": "code",
   "execution_count": 46,
   "metadata": {},
   "outputs": [],
   "source": [
    "BASE_DIR = os.path.join(os.getcwd(), 'test')\n",
    "\n",
    "noisy = os.path.join(BASE_DIR, 'noisy')\n",
    "final = os.path.join(BASE_DIR, 'final')\n",
    "denoi = os.path.join(BASE_DIR, 'denoised')"
   ]
  },
  {
   "cell_type": "code",
   "execution_count": 47,
   "metadata": {},
   "outputs": [
    {
     "data": {
      "text/plain": [
       "['.ipynb_checkpoints',\n",
       " 'noisy_19648311_RH.png',\n",
       " 'noisy_196483841_RH.png',\n",
       " 'noisy_196488331_HH.png',\n",
       " 'noisy_196488331_RV.png',\n",
       " 'noisy_196488341_HH.png',\n",
       " 'README.md']"
      ]
     },
     "execution_count": 47,
     "metadata": {},
     "output_type": "execute_result"
    }
   ],
   "source": [
    "os.listdir(noisy)"
   ]
  },
  {
   "cell_type": "code",
   "execution_count": 48,
   "metadata": {},
   "outputs": [
    {
     "data": {
      "text/plain": [
       "['.ipynb_checkpoints', '19648311_RH_inpainted.png', 'README.md']"
      ]
     },
     "execution_count": 48,
     "metadata": {},
     "output_type": "execute_result"
    }
   ],
   "source": [
    "os.listdir(final)"
   ]
  },
  {
   "cell_type": "code",
   "execution_count": 49,
   "metadata": {},
   "outputs": [
    {
     "data": {
      "text/plain": [
       "['.ipynb_checkpoints',\n",
       " '19648311_RH.png',\n",
       " '196488331_HH.png',\n",
       " '196488331_RV.png',\n",
       " '196488341_HH.png',\n",
       " '196488341_RH.png',\n",
       " 'README.md']"
      ]
     },
     "execution_count": 49,
     "metadata": {},
     "output_type": "execute_result"
    }
   ],
   "source": [
    "os.listdir(denoi)"
   ]
  },
  {
   "cell_type": "code",
   "execution_count": 50,
   "metadata": {},
   "outputs": [],
   "source": [
    "noisy = os.path.join(noisy, os.listdir(noisy)[1])\n",
    "final = os.path.join(final, os.listdir(final)[1])\n",
    "denoi = os.path.join(denoi, os.listdir(denoi)[1])"
   ]
  },
  {
   "cell_type": "code",
   "execution_count": 51,
   "metadata": {},
   "outputs": [],
   "source": [
    "img_n = np.asarray(Image.open(noisy).convert('L'))  # Noisy\n",
    "img_f = np.asarray(Image.open(final).convert('L'))  # Filtered\n",
    "img_d = np.asarray(Image.open(denoi).convert('L'))  # Denoised"
   ]
  },
  {
   "cell_type": "markdown",
   "metadata": {},
   "source": [
    "### SSI Speckle Suppression Index"
   ]
  },
  {
   "cell_type": "code",
   "execution_count": 52,
   "metadata": {},
   "outputs": [],
   "source": [
    "sigma_r = np.std(img_f)\n",
    "r_dash = np.mean(img_f)\n",
    "\n",
    "sigma_f = np.std(img_n)\n",
    "f_dash = np.mean(img_n)"
   ]
  },
  {
   "cell_type": "code",
   "execution_count": 53,
   "metadata": {},
   "outputs": [
    {
     "data": {
      "text/plain": [
       "0.4559577023334924"
      ]
     },
     "execution_count": 53,
     "metadata": {},
     "output_type": "execute_result"
    }
   ],
   "source": [
    "SSI = (sigma_r * f_dash) / (r_dash * sigma_f)\n",
    "SSI"
   ]
  },
  {
   "cell_type": "code",
   "execution_count": 54,
   "metadata": {},
   "outputs": [
    {
     "data": {
      "text/plain": [
       "0.5078259549153873"
      ]
     },
     "execution_count": 54,
     "metadata": {},
     "output_type": "execute_result"
    }
   ],
   "source": [
    "## For Denoised Alone\n",
    "\n",
    "sigma_r = np.std(img_d)\n",
    "r_dash = np.mean(img_d)\n",
    "\n",
    "sigma_f = np.std(img_n)\n",
    "f_dash = np.mean(img_n)\n",
    "\n",
    "SSI = (sigma_r * f_dash) / (r_dash * sigma_f)\n",
    "SSI"
   ]
  },
  {
   "cell_type": "markdown",
   "metadata": {},
   "source": [
    "### ENL Equivalent Number of Looks"
   ]
  },
  {
   "cell_type": "code",
   "execution_count": 55,
   "metadata": {},
   "outputs": [
    {
     "data": {
      "text/plain": [
       "0.016465057289131137"
      ]
     },
     "execution_count": 55,
     "metadata": {},
     "output_type": "execute_result"
    }
   ],
   "source": [
    "mu = np.mean(img_f)\n",
    "sigma = np.var(img_f)\n",
    "\n",
    "ENL = (mu / sigma)**2\n",
    "ENL"
   ]
  },
  {
   "cell_type": "code",
   "execution_count": 56,
   "metadata": {},
   "outputs": [
    {
     "data": {
      "text/plain": [
       "0.010592740234350959"
      ]
     },
     "execution_count": 56,
     "metadata": {},
     "output_type": "execute_result"
    }
   ],
   "source": [
    "## For Denoised Alone\n",
    "\n",
    "mu = np.mean(img_d)\n",
    "sigma = np.var(img_d)\n",
    "\n",
    "ENL = (mu / sigma)**2\n",
    "ENL"
   ]
  },
  {
   "cell_type": "markdown",
   "metadata": {},
   "source": [
    "## SMPI Speckle Suppression and Mean Preservation Index"
   ]
  },
  {
   "cell_type": "code",
   "execution_count": 57,
   "metadata": {},
   "outputs": [
    {
     "data": {
      "text/plain": [
       "2.32095414866341"
      ]
     },
     "execution_count": 57,
     "metadata": {},
     "output_type": "execute_result"
    }
   ],
   "source": [
    "sigma_r = np.std(img_f)\n",
    "r_dash = np.mean(img_f)\n",
    "\n",
    "sigma_f = np.std(img_n)\n",
    "f_dash = np.mean(img_n)\n",
    "\n",
    "Q = 1 + abs(f_dash - r_dash)\n",
    "\n",
    "SMPI = Q * (sigma_r / sigma_f)\n",
    "SMPI"
   ]
  },
  {
   "cell_type": "code",
   "execution_count": 58,
   "metadata": {},
   "outputs": [
    {
     "data": {
      "text/plain": [
       "2.836440938370696"
      ]
     },
     "execution_count": 58,
     "metadata": {},
     "output_type": "execute_result"
    }
   ],
   "source": [
    "## For Denoised Alone\n",
    "\n",
    "sigma_r = np.std(img_d)\n",
    "r_dash = np.mean(img_d)\n",
    "\n",
    "sigma_f = np.std(img_n)\n",
    "f_dash = np.mean(img_n)\n",
    "\n",
    "Q = 1 + abs(f_dash - r_dash)\n",
    "\n",
    "SMPI = Q * (sigma_r / sigma_f)\n",
    "SMPI"
   ]
  },
  {
   "cell_type": "markdown",
   "metadata": {},
   "source": [
    "## SSIM"
   ]
  },
  {
   "cell_type": "code",
   "execution_count": 61,
   "metadata": {},
   "outputs": [
    {
     "data": {
      "text/plain": [
       "255"
      ]
     },
     "execution_count": 61,
     "metadata": {},
     "output_type": "execute_result"
    }
   ],
   "source": [
    "from skimage.metrics import structural_similarity as ssim\n",
    "\n",
    "max(img_f.max(), img_n.max())"
   ]
  },
  {
   "cell_type": "code",
   "execution_count": null,
   "metadata": {},
   "outputs": [],
   "source": [
    "ssim = ssim(img_f, img_n, data_range=max(img_f.max(), img_n.max()) - min(img_f.min(), img_n.min()))"
   ]
  },
  {
   "cell_type": "code",
   "execution_count": null,
   "metadata": {},
   "outputs": [],
   "source": []
  }
 ],
 "metadata": {
  "kernelspec": {
   "display_name": "Python 3",
   "language": "python",
   "name": "python3"
  },
  "language_info": {
   "codemirror_mode": {
    "name": "ipython",
    "version": 3
   },
   "file_extension": ".py",
   "mimetype": "text/x-python",
   "name": "python",
   "nbconvert_exporter": "python",
   "pygments_lexer": "ipython3",
   "version": "3.8.5"
  }
 },
 "nbformat": 4,
 "nbformat_minor": 4
}
