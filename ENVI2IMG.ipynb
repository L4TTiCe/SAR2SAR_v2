{
 "cells": [
  {
   "cell_type": "markdown",
   "metadata": {},
   "source": [
    "# Export Data files as Image"
   ]
  },
  {
   "cell_type": "code",
   "execution_count": 1,
   "metadata": {},
   "outputs": [],
   "source": [
    "from spectral import *"
   ]
  },
  {
   "cell_type": "code",
   "execution_count": 2,
   "metadata": {},
   "outputs": [
    {
     "data": {
      "text/plain": [
       "\tData Source:   '././196488211.img'\n",
       "\t# Rows:          13561\n",
       "\t# Samples:       10472\n",
       "\t# Bands:             1\n",
       "\tInterleave:        BSQ\n",
       "\tQuantization:  32 bits\n",
       "\tData format:   float32"
      ]
     },
     "execution_count": 2,
     "metadata": {},
     "output_type": "execute_result"
    }
   ],
   "source": [
    "img = open_image('196488211.hdr')\n",
    "img"
   ]
  },
  {
   "cell_type": "code",
   "execution_count": 3,
   "metadata": {},
   "outputs": [],
   "source": [
    "arr = img.load()"
   ]
  },
  {
   "cell_type": "code",
   "execution_count": 19,
   "metadata": {},
   "outputs": [],
   "source": [
    "save_rgb('196483841_RH.tif', arr)"
   ]
  },
  {
   "cell_type": "code",
   "execution_count": 4,
   "metadata": {},
   "outputs": [
    {
     "data": {
      "text/plain": [
       "ImageArray([[[ 780.8077 ]\n",
       "             [ 817.6858 ]\n",
       "             [ 935.9957 ]\n",
       "             ...\n",
       "             [ 918.71075]\n",
       "             [1097.578  ]\n",
       "             [ 873.10065]]\n",
       "\n",
       "            [[ 910.2322 ]\n",
       "             [ 824.22943]\n",
       "             [ 904.3717 ]\n",
       "             ...\n",
       "             [ 769.02576]\n",
       "             [ 901.0487 ]\n",
       "             [ 590.22546]]\n",
       "\n",
       "            [[ 760.7676 ]\n",
       "             [1096.9271 ]\n",
       "             [1095.1951 ]\n",
       "             ...\n",
       "             [ 993.7242 ]\n",
       "             [ 824.4236 ]\n",
       "             [ 407.46515]]\n",
       "\n",
       "            ...\n",
       "\n",
       "            [[1025.4806 ]\n",
       "             [1155.9614 ]\n",
       "             [1372.1504 ]\n",
       "             ...\n",
       "             [ 879.6489 ]\n",
       "             [ 775.143  ]\n",
       "             [ 867.1112 ]]\n",
       "\n",
       "            [[1203.3401 ]\n",
       "             [ 838.34686]\n",
       "             [ 967.15906]\n",
       "             ...\n",
       "             [ 841.7806 ]\n",
       "             [ 656.9413 ]\n",
       "             [ 797.31104]]\n",
       "\n",
       "            [[2178.577  ]\n",
       "             [ 868.4121 ]\n",
       "             [1018.91986]\n",
       "             ...\n",
       "             [1085.0505 ]\n",
       "             [ 807.5947 ]\n",
       "             [ 638.9435 ]]], dtype=float32)"
      ]
     },
     "execution_count": 4,
     "metadata": {},
     "output_type": "execute_result"
    }
   ],
   "source": [
    "arr"
   ]
  },
  {
   "cell_type": "code",
   "execution_count": null,
   "metadata": {},
   "outputs": [],
   "source": []
  }
 ],
 "metadata": {
  "kernelspec": {
   "display_name": "Python 3",
   "language": "python",
   "name": "python3"
  },
  "language_info": {
   "codemirror_mode": {
    "name": "ipython",
    "version": 3
   },
   "file_extension": ".py",
   "mimetype": "text/x-python",
   "name": "python",
   "nbconvert_exporter": "python",
   "pygments_lexer": "ipython3",
   "version": "3.8.5"
  }
 },
 "nbformat": 4,
 "nbformat_minor": 4
}
